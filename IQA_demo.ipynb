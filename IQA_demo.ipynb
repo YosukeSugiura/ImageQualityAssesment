{
  "nbformat": 4,
  "nbformat_minor": 0,
  "metadata": {
    "colab": {
      "name": "IQA_demo.ipynb",
      "version": "0.3.2",
      "provenance": [],
      "collapsed_sections": [],
      "include_colab_link": true
    },
    "kernelspec": {
      "name": "python3",
      "display_name": "Python 3"
    }
  },
  "cells": [
    {
      "cell_type": "markdown",
      "metadata": {
        "id": "view-in-github",
        "colab_type": "text"
      },
      "source": [
        "<a href=\"https://colab.research.google.com/github/YosukeSugiura/ImageQualityAssesment/blob/master/IQA_demo.ipynb\" target=\"_parent\"><img src=\"https://colab.research.google.com/assets/colab-badge.svg\" alt=\"Open In Colab\"/></a>"
      ]
    },
    {
      "cell_type": "code",
      "metadata": {
        "id": "R1WmldidUIvP",
        "colab_type": "code",
        "colab": {
          "base_uri": "https://localhost:8080/",
          "height": 891
        },
        "outputId": "2e278956-00be-40a1-f306-2ff76637b564"
      },
      "source": [
        "!pip install nnabla-ext-cuda100\n",
        "!git clone https://github.com/YosukeSugiura/ImageQualityAssesment.git\n"
      ],
      "execution_count": 2,
      "outputs": [
        {
          "output_type": "stream",
          "text": [
            "Collecting nnabla-ext-cuda100\n",
            "\u001b[?25l  Downloading https://files.pythonhosted.org/packages/6a/5d/0e307ecde3688bbd686270134bec4c1f9baca74ae5a5c698dfb6be96f0e5/nnabla_ext_cuda100-1.1.0-cp36-cp36m-manylinux1_x86_64.whl (18.6MB)\n",
            "\u001b[K     |████████████████████████████████| 18.6MB 1.6MB/s \n",
            "\u001b[?25hCollecting nnabla==1.1.0 (from nnabla-ext-cuda100)\n",
            "\u001b[?25l  Downloading https://files.pythonhosted.org/packages/8a/da/d41787c5885773a3eb09d905c075aac489be6cb3be3c20c4e2f5e248d848/nnabla-1.1.0-cp36-cp36m-manylinux1_x86_64.whl (13.2MB)\n",
            "\u001b[K     |████████████████████████████████| 13.2MB 31.5MB/s \n",
            "\u001b[?25hRequirement already satisfied: setuptools in /usr/local/lib/python3.6/dist-packages (from nnabla-ext-cuda100) (41.2.0)\n",
            "Requirement already satisfied: pyyaml in /usr/local/lib/python3.6/dist-packages (from nnabla==1.1.0->nnabla-ext-cuda100) (3.13)\n",
            "Requirement already satisfied: protobuf>=3.6 in /usr/local/lib/python3.6/dist-packages (from nnabla==1.1.0->nnabla-ext-cuda100) (3.7.1)\n",
            "Requirement already satisfied: imageio in /usr/local/lib/python3.6/dist-packages (from nnabla==1.1.0->nnabla-ext-cuda100) (2.4.1)\n",
            "Requirement already satisfied: h5py in /usr/local/lib/python3.6/dist-packages (from nnabla==1.1.0->nnabla-ext-cuda100) (2.8.0)\n",
            "Requirement already satisfied: boto3 in /usr/local/lib/python3.6/dist-packages (from nnabla==1.1.0->nnabla-ext-cuda100) (1.9.205)\n",
            "Requirement already satisfied: requests in /usr/local/lib/python3.6/dist-packages (from nnabla==1.1.0->nnabla-ext-cuda100) (2.21.0)\n",
            "Requirement already satisfied: scipy in /usr/local/lib/python3.6/dist-packages (from nnabla==1.1.0->nnabla-ext-cuda100) (1.3.1)\n",
            "Requirement already satisfied: numpy<1.17,>=1.16 in /usr/local/lib/python3.6/dist-packages (from nnabla==1.1.0->nnabla-ext-cuda100) (1.16.4)\n",
            "Collecting configparser (from nnabla==1.1.0->nnabla-ext-cuda100)\n",
            "  Downloading https://files.pythonhosted.org/packages/ab/1a/ec151e5e703ac80041eaccef923611bbcec2b667c20383655a06962732e9/configparser-3.8.1-py2.py3-none-any.whl\n",
            "Requirement already satisfied: tqdm in /usr/local/lib/python3.6/dist-packages (from nnabla==1.1.0->nnabla-ext-cuda100) (4.28.1)\n",
            "Requirement already satisfied: contextlib2 in /usr/local/lib/python3.6/dist-packages (from nnabla==1.1.0->nnabla-ext-cuda100) (0.5.5)\n",
            "Requirement already satisfied: pillow in /usr/local/lib/python3.6/dist-packages (from nnabla==1.1.0->nnabla-ext-cuda100) (4.3.0)\n",
            "Requirement already satisfied: Cython in /usr/local/lib/python3.6/dist-packages (from nnabla==1.1.0->nnabla-ext-cuda100) (0.29.13)\n",
            "Collecting onnx; python_version != \"2.7\" and python_version != \"3.7\" (from nnabla==1.1.0->nnabla-ext-cuda100)\n",
            "\u001b[?25l  Downloading https://files.pythonhosted.org/packages/88/50/e4a5a869093f35884d1fd95b46b24705ab27adb7e562a2a307523c043be3/onnx-1.5.0-cp36-cp36m-manylinux1_x86_64.whl (7.0MB)\n",
            "\u001b[K     |████████████████████████████████| 7.1MB 42.0MB/s \n",
            "\u001b[?25hRequirement already satisfied: six>=1.9 in /usr/local/lib/python3.6/dist-packages (from protobuf>=3.6->nnabla==1.1.0->nnabla-ext-cuda100) (1.12.0)\n",
            "Requirement already satisfied: botocore<1.13.0,>=1.12.205 in /usr/local/lib/python3.6/dist-packages (from boto3->nnabla==1.1.0->nnabla-ext-cuda100) (1.12.205)\n",
            "Requirement already satisfied: jmespath<1.0.0,>=0.7.1 in /usr/local/lib/python3.6/dist-packages (from boto3->nnabla==1.1.0->nnabla-ext-cuda100) (0.9.4)\n",
            "Requirement already satisfied: s3transfer<0.3.0,>=0.2.0 in /usr/local/lib/python3.6/dist-packages (from boto3->nnabla==1.1.0->nnabla-ext-cuda100) (0.2.1)\n",
            "Requirement already satisfied: certifi>=2017.4.17 in /usr/local/lib/python3.6/dist-packages (from requests->nnabla==1.1.0->nnabla-ext-cuda100) (2019.6.16)\n",
            "Requirement already satisfied: chardet<3.1.0,>=3.0.2 in /usr/local/lib/python3.6/dist-packages (from requests->nnabla==1.1.0->nnabla-ext-cuda100) (3.0.4)\n",
            "Requirement already satisfied: urllib3<1.25,>=1.21.1 in /usr/local/lib/python3.6/dist-packages (from requests->nnabla==1.1.0->nnabla-ext-cuda100) (1.24.3)\n",
            "Requirement already satisfied: idna<2.9,>=2.5 in /usr/local/lib/python3.6/dist-packages (from requests->nnabla==1.1.0->nnabla-ext-cuda100) (2.8)\n",
            "Requirement already satisfied: olefile in /usr/local/lib/python3.6/dist-packages (from pillow->nnabla==1.1.0->nnabla-ext-cuda100) (0.46)\n",
            "Collecting typing-extensions>=3.6.2.1 (from onnx; python_version != \"2.7\" and python_version != \"3.7\"->nnabla==1.1.0->nnabla-ext-cuda100)\n",
            "  Downloading https://files.pythonhosted.org/packages/27/aa/bd1442cfb0224da1b671ab334d3b0a4302e4161ea916e28904ff9618d471/typing_extensions-3.7.4-py3-none-any.whl\n",
            "Requirement already satisfied: typing>=3.6.4 in /usr/local/lib/python3.6/dist-packages (from onnx; python_version != \"2.7\" and python_version != \"3.7\"->nnabla==1.1.0->nnabla-ext-cuda100) (3.7.4)\n",
            "Requirement already satisfied: docutils<0.15,>=0.10 in /usr/local/lib/python3.6/dist-packages (from botocore<1.13.0,>=1.12.205->boto3->nnabla==1.1.0->nnabla-ext-cuda100) (0.14)\n",
            "Requirement already satisfied: python-dateutil<3.0.0,>=2.1; python_version >= \"2.7\" in /usr/local/lib/python3.6/dist-packages (from botocore<1.13.0,>=1.12.205->boto3->nnabla==1.1.0->nnabla-ext-cuda100) (2.5.3)\n",
            "Installing collected packages: configparser, typing-extensions, onnx, nnabla, nnabla-ext-cuda100\n",
            "Successfully installed configparser-3.8.1 nnabla-1.1.0 nnabla-ext-cuda100-1.1.0 onnx-1.5.0 typing-extensions-3.7.4\n",
            "Cloning into 'ImageQualityAssesment'...\n",
            "remote: Enumerating objects: 19, done.\u001b[K\n",
            "remote: Counting objects: 100% (19/19), done.\u001b[K\n",
            "remote: Compressing objects: 100% (17/17), done.\u001b[K\n",
            "remote: Total 19 (delta 3), reused 0 (delta 0), pack-reused 0\u001b[K\n",
            "Unpacking objects: 100% (19/19), done.\n"
          ],
          "name": "stdout"
        }
      ]
    },
    {
      "cell_type": "code",
      "metadata": {
        "id": "EtQ-zkJOe99w",
        "colab_type": "code",
        "colab": {
          "base_uri": "https://localhost:8080/",
          "height": 36
        },
        "outputId": "edaf28b0-7cad-4747-b51b-20b593d0a24f"
      },
      "source": [
        "cd ImageQualityAssesment"
      ],
      "execution_count": 3,
      "outputs": [
        {
          "output_type": "stream",
          "text": [
            "/content/ImageQualityAssesment\n"
          ],
          "name": "stdout"
        }
      ]
    },
    {
      "cell_type": "code",
      "metadata": {
        "id": "F_tHoT-lRdFK",
        "colab_type": "code",
        "colab": {}
      },
      "source": [
        "from __future__ import absolute_import\n",
        "from six.moves import range\n",
        "\n",
        "import os\n",
        "import time\n",
        "import numpy as np\n",
        "\n",
        "#   NNabla\n",
        "import nnabla as nn\n",
        "import nnabla.functions as F\n",
        "import nnabla.parametric_functions as PF\n",
        "import nnabla.solvers as S\n",
        "import nnabla.initializer as I\n",
        "from nnabla.ext_utils import get_extension_context  # GPU\n",
        "\n",
        "#   Google Colab\n",
        "from google.colab.output import eval_js\n",
        "from google.colab.patches import cv2_imshow\n",
        "\n",
        "#   Image\n",
        "import cv2\n",
        "from IPython.display import display, Javascript\n",
        "from base64 import b64decode\n",
        "\n",
        "#   Originals\n",
        "from settings import settings\n",
        "import data as dt\n"
      ],
      "execution_count": 0,
      "outputs": []
    },
    {
      "cell_type": "code",
      "metadata": {
        "id": "TwT4cyNLR0_9",
        "colab_type": "code",
        "colab": {}
      },
      "source": [
        "def take_photo(filename='photo.jpg', quality=0.8):\n",
        "  js = Javascript('''\n",
        "    async function takePhoto(quality) {\n",
        "      const div = document.createElement('div');\n",
        "      const capture = document.createElement('button');\n",
        "      capture.textContent = 'Capture';\n",
        "      div.appendChild(capture);\n",
        "\n",
        "      const video = document.createElement('video');\n",
        "      video.style.display = 'block';\n",
        "      const stream = await navigator.mediaDevices.getUserMedia({video: true});\n",
        "\n",
        "      document.body.appendChild(div);\n",
        "      div.appendChild(video);\n",
        "      video.srcObject = stream;\n",
        "      await video.play();\n",
        "\n",
        "      // Resize the output to fit the video element.\n",
        "      google.colab.output.setIframeHeight(document.documentElement.scrollHeight, true);\n",
        "\n",
        "      // Wait for Capture to be clicked.\n",
        "      await new Promise((resolve) => capture.onclick = resolve);\n",
        "\n",
        "      const canvas = document.createElement('canvas');\n",
        "      canvas.width = video.videoWidth;\n",
        "      canvas.height = video.videoHeight;\n",
        "      canvas.getContext('2d').drawImage(video, 0, 0);\n",
        "      stream.getVideoTracks()[0].stop();\n",
        "      div.remove();\n",
        "      return canvas.toDataURL('image/jpeg', quality);\n",
        "      return video\n",
        "    }\n",
        "    ''')\n",
        "  display(js)\n",
        "  data = eval_js('takePhoto({})'.format(quality))\n",
        "  binary = b64decode(data.split(',')[1])\n",
        "  with open(filename, 'wb') as f:\n",
        "    f.write(binary)\n",
        "  return filename"
      ],
      "execution_count": 0,
      "outputs": []
    },
    {
      "cell_type": "code",
      "metadata": {
        "id": "DpYD_KohOwAt",
        "colab_type": "code",
        "colab": {}
      },
      "source": [
        "# -------------------------------------------\n",
        "#   Network for IQA\n",
        "# -------------------------------------------\n",
        "def network(input, scope=\"\", test=False):\n",
        "    \"\"\"\n",
        "    Define Convolutional DNN\n",
        "       input:   input image ( size must be 64 by 64 )\n",
        "       test:    test or not\n",
        "    \"\"\"\n",
        "\n",
        "    with nn.parameter_scope(scope):\n",
        "        c1 = PF.prelu(PF.convolution(input, 10, (8,8), (2,2), (2,2), name='cnv1'))   # Convolution : 64,64,3 -> 2,32,29\n",
        "        c2 = F.max_pooling(c1, (2,2), (2,2))                                 # Max Pooling : 2,32,29 -> 2,32,14\n",
        "        #c2 = PF.batch_normalization(c2, batch_stat=not test, name='bn1')  # Batch Normalization\n",
        "        c4 = PF.prelu(PF.convolution(c2, 16, (8,8), (2,2), (1,1), name='cnv2'))          # Convolution : 2,32,14 -> 16,15,5\n",
        "        #c4 = PF.batch_normalization(c4, batch_stat=not test, name='bn2')  # Batch Normalization\n",
        "        c6 = F.max_pooling(c4, (2,2), (2,2))                                 # Max Pooling : 16,15,5 -> 16,15,1\n",
        "        #c6 = PF.batch_normalization(c5, batch_stat=not test)                        # Batch Normalization\n",
        "        c7 = PF.prelu(c6, name='PReLU')                                             # PReLU\n",
        "        c8 = PF.affine(c7, (100,), name='Affine')                                   # Affine : 16,15,1 -> 142\n",
        "        c9 = F.relu(c8)                                                     # ReLU\n",
        "        c10= PF.affine(c9, (1,), name='Affine2')                                    # Affine : 142 -> 1\n",
        "\n",
        "    return c10"
      ],
      "execution_count": 0,
      "outputs": []
    },
    {
      "cell_type": "code",
      "metadata": {
        "id": "iPDy1GOqdxJl",
        "colab_type": "code",
        "colab": {}
      },
      "source": [
        "##  ~~~~~~~~~~~~~~~~~~~\n",
        "##   Demo\n",
        "##  ~~~~~~~~~~~~~~~~~~~\n",
        "\n",
        "\n",
        "args = settings()\n",
        "\n",
        "#   Input Variable\n",
        "nn.clear_parameters()                           #   Clear\n",
        "Input   = nn.Variable([1, 3, 64, 64])#   Input\n",
        "\n",
        "#   Network Definition\n",
        "Name    = \"CNN\"                                 #   Name of scope which includes network models (arbitrary)\n",
        "Output  = network(Input, scope=Name, test=True) #   Network & Output\n",
        "\n",
        "#   Load data\n",
        "with nn.parameter_scope(Name):\n",
        "    nn.load_parameters(os.path.join(args.model_save_path, \"network_param_{:04}.h5\".format(args.epoch)))\n"
      ],
      "execution_count": 0,
      "outputs": []
    },
    {
      "cell_type": "code",
      "metadata": {
        "id": "k8GKC7-iSA8E",
        "colab_type": "code",
        "colab": {}
      },
      "source": [
        "#   Capture Image\n",
        "while (True):\n",
        "  filename = take_photo()\n",
        "  display(Image(filename))\n",
        "  I = cv2.imread(filename)\n",
        "    \n",
        "  Img_resize = cv2.resize(I, (64, 64)).transpose(2, 0, 1)  # Resize (*,*,3) -> (3,64,64)\n",
        "  Input.d = np.expand_dims(Img_resize, axis=0)\n",
        "  Output.forward()\n",
        "  score = np.max([min([Output.d[0][0] / 9 * 100, 100]), 0] )\n",
        "\n",
        "  print('IQA Score :  {}'.format(score))"
      ],
      "execution_count": 0,
      "outputs": []
    }
  ]
}