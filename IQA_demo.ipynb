{
  "nbformat": 4,
  "nbformat_minor": 0,
  "metadata": {
    "colab": {
      "name": "IQA_demo.ipynb",
      "version": "0.3.2",
      "provenance": [],
      "collapsed_sections": [],
      "include_colab_link": true
    },
    "kernelspec": {
      "name": "python3",
      "display_name": "Python 3"
    }
  },
  "cells": [
    {
      "cell_type": "markdown",
      "metadata": {
        "id": "view-in-github",
        "colab_type": "text"
      },
      "source": [
        "<a href=\"https://colab.research.google.com/github/YosukeSugiura/ImageQualityAssesment/blob/master/IQA_demo.ipynb\" target=\"_parent\"><img src=\"https://colab.research.google.com/assets/colab-badge.svg\" alt=\"Open In Colab\"/></a>"
      ]
    },
    {
      "cell_type": "code",
      "metadata": {
        "id": "R1WmldidUIvP",
        "colab_type": "code",
        "colab": {}
      },
      "source": [
        "!pip install nnabla-ext-cuda100\n",
        "!git clone https://github.com/YosukeSugiura/ImageQualityAssesment.git\n"
      ],
      "execution_count": 0,
      "outputs": []
    },
    {
      "cell_type": "code",
      "metadata": {
        "id": "EtQ-zkJOe99w",
        "colab_type": "code",
        "colab": {}
      },
      "source": [
        "cd ImageQualityAssesment"
      ],
      "execution_count": 0,
      "outputs": []
    },
    {
      "cell_type": "code",
      "metadata": {
        "id": "F_tHoT-lRdFK",
        "colab_type": "code",
        "colab": {}
      },
      "source": [
        "from __future__ import absolute_import\n",
        "from six.moves import range\n",
        "\n",
        "import os\n",
        "import time\n",
        "import numpy as np\n",
        "\n",
        "#   NNabla\n",
        "import nnabla as nn\n",
        "import nnabla.functions as F\n",
        "import nnabla.parametric_functions as PF\n",
        "import nnabla.solvers as S\n",
        "import nnabla.initializer as I\n",
        "from nnabla.ext_utils import get_extension_context  # GPU\n",
        "\n",
        "#   Google Colab\n",
        "from google.colab.output import eval_js\n",
        "from google.colab.patches import cv2_imshow\n",
        "\n",
        "#   Image\n",
        "import cv2\n",
        "from IPython.display import display, Javascript, Image\n",
        "from base64 import b64decode\n",
        "\n",
        "#   Originals\n",
        "from settings import settings\n",
        "import data as dt\n"
      ],
      "execution_count": 0,
      "outputs": []
    },
    {
      "cell_type": "code",
      "metadata": {
        "id": "TwT4cyNLR0_9",
        "colab_type": "code",
        "colab": {}
      },
      "source": [
        "def take_photo(filename='photo.jpg', quality=0.8):\n",
        "  js = Javascript('''\n",
        "    async function takePhoto(quality) {\n",
        "      const div = document.createElement('div');\n",
        "      const capture = document.createElement('button');\n",
        "      capture.textContent = 'Capture';\n",
        "      div.appendChild(capture);\n",
        "\n",
        "      const video = document.createElement('video');\n",
        "      video.style.display = 'block';\n",
        "      const stream = await navigator.mediaDevices.getUserMedia({video: true});\n",
        "\n",
        "      document.body.appendChild(div);\n",
        "      div.appendChild(video);\n",
        "      video.srcObject = stream;\n",
        "      await video.play();\n",
        "\n",
        "      // Resize the output to fit the video element.\n",
        "      google.colab.output.setIframeHeight(document.documentElement.scrollHeight, true);\n",
        "\n",
        "      // Wait for Capture to be clicked.\n",
        "      await new Promise((resolve) => capture.onclick = resolve);\n",
        "\n",
        "      const canvas = document.createElement('canvas');\n",
        "      canvas.width = video.videoWidth;\n",
        "      canvas.height = video.videoHeight;\n",
        "      canvas.getContext('2d').drawImage(video, 0, 0);\n",
        "      stream.getVideoTracks()[0].stop();\n",
        "      div.remove();\n",
        "      return canvas.toDataURL('image/jpeg', quality);\n",
        "      return video\n",
        "    }\n",
        "    ''')\n",
        "  display(js)\n",
        "  data = eval_js('takePhoto({})'.format(quality))\n",
        "  binary = b64decode(data.split(',')[1])\n",
        "  with open(filename, 'wb') as f:\n",
        "    f.write(binary)\n",
        "  return filename"
      ],
      "execution_count": 0,
      "outputs": []
    },
    {
      "cell_type": "code",
      "metadata": {
        "id": "DpYD_KohOwAt",
        "colab_type": "code",
        "colab": {}
      },
      "source": [
        "# -------------------------------------------\n",
        "#   Network for IQA\n",
        "# -------------------------------------------\n",
        "def network(input, scope=\"\", test=False):\n",
        "    \"\"\"\n",
        "    Define Convolutional DNN\n",
        "       input:   input image ( size must be 64 by 64 )\n",
        "       test:    test or not\n",
        "    \"\"\"\n",
        "\n",
        "    with nn.parameter_scope(scope):\n",
        "        c1 = PF.prelu(PF.convolution(input, 10, (8,8), (2,2), (2,2), name='cnv1'))   # Convolution : 64,64,3 -> 2,32,29\n",
        "        c2 = F.max_pooling(c1, (2,2), (2,2))                                 # Max Pooling : 2,32,29 -> 2,32,14\n",
        "        #c2 = PF.batch_normalization(c2, batch_stat=not test, name='bn1')  # Batch Normalization\n",
        "        c4 = PF.prelu(PF.convolution(c2, 16, (8,8), (2,2), (1,1), name='cnv2'))          # Convolution : 2,32,14 -> 16,15,5\n",
        "        #c4 = PF.batch_normalization(c4, batch_stat=not test, name='bn2')  # Batch Normalization\n",
        "        c6 = F.max_pooling(c4, (2,2), (2,2))                                 # Max Pooling : 16,15,5 -> 16,15,1\n",
        "        #c6 = PF.batch_normalization(c5, batch_stat=not test)                        # Batch Normalization\n",
        "        c7 = PF.prelu(c6, name='PReLU')                                             # PReLU\n",
        "        c8 = PF.affine(c7, (100,), name='Affine')                                   # Affine : 16,15,1 -> 142\n",
        "        c9 = F.relu(c8)                                                     # ReLU\n",
        "        c10= PF.affine(c9, (1,), name='Affine2')                                    # Affine : 142 -> 1\n",
        "\n",
        "    return c10"
      ],
      "execution_count": 0,
      "outputs": []
    },
    {
      "cell_type": "code",
      "metadata": {
        "id": "iPDy1GOqdxJl",
        "colab_type": "code",
        "colab": {}
      },
      "source": [
        "##  ~~~~~~~~~~~~~~~~~~~\n",
        "##   Demo\n",
        "##  ~~~~~~~~~~~~~~~~~~~\n",
        "\n",
        "\n",
        "args = settings()\n",
        "\n",
        "#   Input Variable\n",
        "nn.clear_parameters()                           #   Clear\n",
        "Input   = nn.Variable([1, 3, 64, 64])#   Input\n",
        "\n",
        "#   Network Definition\n",
        "Name    = \"CNN\"                                 #   Name of scope which includes network models (arbitrary)\n",
        "Output  = network(Input, scope=Name, test=True) #   Network & Output\n",
        "\n",
        "#   Load data\n",
        "with nn.parameter_scope(Name):\n",
        "    nn.load_parameters(os.path.join(args.model_save_path, \"network_param_{:04}.h5\".format(args.epoch)))\n"
      ],
      "execution_count": 0,
      "outputs": []
    },
    {
      "cell_type": "code",
      "metadata": {
        "id": "k8GKC7-iSA8E",
        "colab_type": "code",
        "colab": {}
      },
      "source": [
        "#   Capture Image\n",
        "while (True):\n",
        "  filename = take_photo()\n",
        "  display(Image(filename))\n",
        "  I = cv2.imread(filename)\n",
        "    \n",
        "  Img_resize = cv2.resize(I, (64, 64)).transpose(2, 0, 1)  # Resize (*,*,3) -> (3,64,64)\n",
        "  Input.d = np.expand_dims(Img_resize, axis=0)\n",
        "  Output.forward()\n",
        "  score = np.max([min([Output.d[0][0] / 9 * 100, 100]), 0] )\n",
        "\n",
        "  print('IQA Score :  {}'.format(score))"
      ],
      "execution_count": 0,
      "outputs": []
    }
  ]
}